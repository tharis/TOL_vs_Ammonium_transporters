{
 "cells": [
  {
   "cell_type": "code",
   "execution_count": null,
   "id": "c0d8ed15",
   "metadata": {},
   "outputs": [],
   "source": [
    "!mkdir aligned"
   ]
  },
  {
   "cell_type": "code",
   "execution_count": null,
   "id": "e224155d",
   "metadata": {},
   "outputs": [],
   "source": [
    "!mafft --op 5 --ep 2.5 Helices_ncfp/helix1.out/ncfp_aa.fasta > aligned/helix1.fasta\n",
    "!mafft --op 5 --ep 2.5 Helices_ncfp/helix2.out/cached_aa.fasta > aligned/helix2.fasta\n",
    "!mafft --op 5 --ep 2.5 Helices_ncfp/helix3.out/cached_aa.fasta > aligned/helix3.fasta\n",
    "!mafft --op 5 --ep 2.5 Helices_ncfp/helix4.out/cached_aa.fasta > aligned/helix4.fasta\n",
    "!mafft --op 5 --ep 2.5 Helices_ncfp/helix6.out/cached_aa.fasta > aligned/helix6.fasta\n",
    "!mafft --op 5 --ep 2.5 Helices_ncfp/helix7.out/cached_aa.fasta > aligned/helix7.fasta\n",
    "!mafft --op 5 --ep 2.5 Helices_ncfp/helix8.out/cached_aa.fasta > aligned/helix8.fasta\n",
    "!mafft --op 5 --ep 2.5 Helices_ncfp/helix9.out/cached_aa.fasta > aligned/helix9.fasta\n",
    "!mafft --op 5 --ep 2.5 Helices_ncfp/helix10.out/cached_aa.fasta > aligned/helix10.fasta\n",
    "!mafft --op 5 --ep 2.5 Helices_ncfp/helix11.out/cached_aa.fasta > aligned/helix11.fasta"
   ]
  },
  {
   "cell_type": "code",
   "execution_count": null,
   "id": "39a2575d",
   "metadata": {},
   "outputs": [],
   "source": [
    "!mkdir aa_header\n",
    "!mkdir nt_header"
   ]
  },
  {
   "cell_type": "code",
   "execution_count": null,
   "id": "ca8bdc33",
   "metadata": {},
   "outputs": [],
   "source": [
    "!awk -F\"/\" '/^>/{print $1; next}1' aligned/helix1.fasta > aa_header/helix1.fasta\n",
    "!awk -F\"/\" '/^>/{print $1; next}1' aligned/helix2.fasta > aa_header/helix2.fasta\n",
    "!awk -F\"/\" '/^>/{print $1; next}1' aligned/helix3.fasta > aa_header/helix3.fasta\n",
    "!awk -F\"/\" '/^>/{print $1; next}1' aligned/helix4.fasta > aa_header/helix4.fasta\n",
    "!awk -F\"/\" '/^>/{print $1; next}1' aligned/helix5.fasta > aa_header/helix5.fasta\n",
    "!awk -F\"/\" '/^>/{print $1; next}1' aligned/helix6.fasta > aa_header/helix6.fasta\n",
    "!awk -F\"/\" '/^>/{print $1; next}1' aligned/helix7.fasta > aa_header/helix7.fasta\n",
    "!awk -F\"/\" '/^>/{print $1; next}1' aligned/helix8.fasta > aa_header/helix8.fasta\n",
    "!awk -F\"/\" '/^>/{print $1; next}1' aligned/helix9.fasta > aa_header/helix9.fasta\n",
    "!awk -F\"/\" '/^>/{print $1; next}1' aligned/helix10.fasta > aa_header/helix10.fasta\n",
    "!awk -F\"/\" '/^>/{print $1; next}1' aligned/helix11.fasta > aa_header/helix11.fasta\n",
    "!awk -F\"/\" '/^>/{print $1; next}1' Helices_ncfp/helix1.out/ncfp_nt.fasta > nt_header/helix1.fasta\n",
    "!awk -F\"/\" '/^>/{print $1; next}1' Helices_ncfp/helix2.out/cached_nt.fasta > nt_header/helix2.fasta\n",
    "!awk -F\"/\" '/^>/{print $1; next}1' Helices_ncfp/helix3.out/cached_nt.fasta > nt_header/helix3.fasta\n",
    "!awk -F\"/\" '/^>/{print $1; next}1' Helices_ncfp/helix4.out/cached_nt.fasta > nt_header/helix4.fasta\n",
    "!awk -F\"/\" '/^>/{print $1; next}1' Helices_ncfp/helix5.out/cached_nt.fasta > nt_header/helix5.fasta\n",
    "!awk -F\"/\" '/^>/{print $1; next}1' Helices_ncfp/helix6.out/cached_nt.fasta > nt_header/helix6.fasta\n",
    "!awk -F\"/\" '/^>/{print $1; next}1' Helices_ncfp/helix7.out/cached_nt.fasta > nt_header/helix7.fasta\n",
    "!awk -F\"/\" '/^>/{print $1; next}1' Helices_ncfp/helix8.out/cached_nt.fasta > nt_header/helix8.fasta\n",
    "!awk -F\"/\" '/^>/{print $1; next}1' Helices_ncfp/helix9.out/cached_nt.fasta > nt_header/helix9.fasta\n",
    "!awk -F\"/\" '/^>/{print $1; next}1' Helices_ncfp/helix10.out/cached_nt.fasta > nt_header/helix10.fasta\n",
    "!awk -F\"/\" '/^>/{print $1; next}1' Helices_ncfp/helix11.out/cached_nt.fasta > nt_header/helix11.fasta\n",
    "\n"
   ]
  },
  {
   "cell_type": "code",
   "execution_count": null,
   "id": "fc8dbbdb",
   "metadata": {},
   "outputs": [],
   "source": [
    "!mkdir t-coffee"
   ]
  },
  {
   "cell_type": "code",
   "execution_count": null,
   "id": "b2ff36ce",
   "metadata": {},
   "outputs": [],
   "source": [
    "!t_coffee -other_pg seq_reformat -in nt_header/helix1.fasta -in2 aa_header/helix1.fasta -action +thread_dna_on_prot_aln -output fasta > t-coffee/helix1.fasta\n",
    "!t_coffee -other_pg seq_reformat -in nt_header/helix2.fasta -in2 aa_header/helix2.fasta -action +thread_dna_on_prot_aln -output fasta > t-coffee/helix2.fasta\n",
    "!t_coffee -other_pg seq_reformat -in nt_header/helix3.fasta -in2 aa_header/helix3.fasta -action +thread_dna_on_prot_aln -output fasta > t-coffee/helix3.fasta\n",
    "!t_coffee -other_pg seq_reformat -in nt_header/helix4.fasta -in2 aa_header/helix4.fasta -action +thread_dna_on_prot_aln -output fasta > t-coffee/helix4.fasta\n",
    "!t_coffee -other_pg seq_reformat -in nt_header/helix5.fasta -in2 aa_header/helix5.fasta -action +thread_dna_on_prot_aln -output fasta > t-coffee/helix5.fasta\n",
    "!t_coffee -other_pg seq_reformat -in nt_header/helix6.fasta -in2 aa_header/helix6.fasta -action +thread_dna_on_prot_aln -output fasta > t-coffee/helix6.fasta\n",
    "!t_coffee -other_pg seq_reformat -in nt_header/helix7.fasta -in2 aa_header/helix7.fasta -action +thread_dna_on_prot_aln -output fasta > t-coffee/helix7.fasta\n",
    "!t_coffee -other_pg seq_reformat -in nt_header/helix8.fasta -in2 aa_header/helix8.fasta -action +thread_dna_on_prot_aln -output fasta > t-coffee/helix8.fasta\n",
    "!t_coffee -other_pg seq_reformat -in nt_header/helix9.fasta -in2 aa_header/helix9.fasta -action +thread_dna_on_prot_aln -output fasta > t-coffee/helix9.fasta\n",
    "!t_coffee -other_pg seq_reformat -in nt_header/helix10.fasta -in2 aa_header/helix10.fasta -action +thread_dna_on_prot_aln -output fasta > t-coffee/helix10.fasta\n",
    "!t_coffee -other_pg seq_reformat -in nt_header/helix11.fasta -in2 aa_header/helix11.fasta -action +thread_dna_on_prot_aln -output fasta > t-coffee/helix11.fasta\n"
   ]
  },
  {
   "cell_type": "code",
   "execution_count": null,
   "id": "84d6a9f8",
   "metadata": {},
   "outputs": [],
   "source": [
    "!mkdir trimmed"
   ]
  },
  {
   "cell_type": "code",
   "execution_count": null,
   "id": "422d9fdc",
   "metadata": {},
   "outputs": [],
   "source": [
    "!trimal -in t-coffee/helix1.fasta -out trimmed/helix1.fasta -automated1\n",
    "!trimal -in t-coffee/helix2.fasta -out trimmed/helix2.fasta -automated1\n",
    "!trimal -in t-coffee/helix3.fasta -out trimmed/helix3.fasta -automated1\n",
    "!trimal -in t-coffee/helix4.fasta -out trimmed/helix4.fasta -automated1\n",
    "!trimal -in t-coffee/helix5.fasta -out trimmed/helix5.fasta -automated1\n",
    "!trimal -in t-coffee/helix6.fasta -out trimmed/helix6.fasta -automated1\n",
    "!trimal -in t-coffee/helix7.fasta -out trimmed/helix7.fasta -automated1\n",
    "!trimal -in t-coffee/helix8.fasta -out trimmed/helix8.fasta -automated1\n",
    "!trimal -in t-coffee/helix9.fasta -out trimmed/helix9.fasta -automated1\n",
    "!trimal -in t-coffee/helix10.fasta -out trimmed/helix10.fasta -automated1\n",
    "!trimal -in t-coffee/helix11.fasta -out trimmed/helix11.fasta -automated1\n"
   ]
  },
  {
   "cell_type": "code",
   "execution_count": null,
   "id": "b87d8219",
   "metadata": {},
   "outputs": [],
   "source": [
    "!mkdir concat"
   ]
  },
  {
   "cell_type": "code",
   "execution_count": null,
   "id": "e8646b72",
   "metadata": {},
   "outputs": [],
   "source": [
    "!seqkit concat trimmed/helix1.fasta trimmed/helix2.fasta trimmed/helix3.fasta trimmed/helix4.fasta trimmed/helix5.fasta trimmed/helix6.fasta trimmed/helix7.fasta trimmed/helix8.fasta trimmed/helix9.fasta trimmed/helix10.fasta trimmed/helix11.fasta > conact/concat.fasta\n",
    "!seqkit rmdup -s concat/concat.fasta > concat/concatrmdup.fasta"
   ]
  },
  {
   "cell_type": "code",
   "execution_count": null,
   "id": "dc7b645a",
   "metadata": {},
   "outputs": [],
   "source": [
    "!modeltest-ng -p 5 -i concat/concatrmdup.fasta "
   ]
  },
  {
   "cell_type": "code",
   "execution_count": null,
   "id": "afb0bed3",
   "metadata": {},
   "outputs": [],
   "source": [
    "!raxml-ng --check --msa concat/concatrmdup.fasta --model model --prefix 01_check"
   ]
  },
  {
   "cell_type": "code",
   "execution_count": null,
   "id": "8320a031",
   "metadata": {},
   "outputs": [],
   "source": [
    "!raxml-ng --parse --msa concat/concatrmdup.fasta --model <MODEL> --prefix 02_parse"
   ]
  },
  {
   "cell_type": "code",
   "execution_count": null,
   "id": "747b5f36",
   "metadata": {},
   "outputs": [],
   "source": [
    "!raxml-ng --msa 02_parse.raxml.rba --model MODEL --all --bs-trees 100 --seed SEED --prefix 03_bootstrap"
   ]
  }
 ],
 "metadata": {
  "kernelspec": {
   "display_name": "Python 3 (ipykernel)",
   "language": "python",
   "name": "python3"
  },
  "language_info": {
   "codemirror_mode": {
    "name": "ipython",
    "version": 3
   },
   "file_extension": ".py",
   "mimetype": "text/x-python",
   "name": "python",
   "nbconvert_exporter": "python",
   "pygments_lexer": "ipython3",
   "version": "3.9.18"
  }
 },
 "nbformat": 4,
 "nbformat_minor": 5
}
